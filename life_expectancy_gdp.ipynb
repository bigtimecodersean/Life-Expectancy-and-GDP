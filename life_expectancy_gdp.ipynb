{
 "cells": [
  {
   "cell_type": "code",
   "execution_count": 7,
   "metadata": {},
   "outputs": [],
   "source": [
    "import pandas as pd\n",
    "import numpy as np\n",
    "import seaborn as sns\n"
   ]
  },
  {
   "cell_type": "code",
   "execution_count": 2,
   "metadata": {},
   "outputs": [],
   "source": [
    "df = pd.read_csv('all_data.csv')"
   ]
  },
  {
   "cell_type": "code",
   "execution_count": 5,
   "metadata": {},
   "outputs": [
    {
     "name": "stdout",
     "output_type": "stream",
     "text": [
      "   Country  Year  Life expectancy at birth (years)           GDP\n",
      "0    Chile  2000                              77.3  7.786093e+10\n",
      "1    Chile  2001                              77.3  7.097992e+10\n",
      "2    Chile  2002                              77.8  6.973681e+10\n",
      "3    Chile  2003                              77.9  7.564346e+10\n",
      "4    Chile  2004                              78.0  9.921039e+10\n",
      "5    Chile  2005                              78.4  1.229650e+11\n",
      "6    Chile  2006                              78.9  1.547880e+11\n",
      "7    Chile  2007                              78.9  1.736060e+11\n",
      "8    Chile  2008                              79.6  1.796380e+11\n",
      "9    Chile  2009                              79.3  1.723890e+11\n",
      "10   Chile  2010                              79.1  2.185380e+11\n",
      "11   Chile  2011                              79.8  2.522520e+11\n",
      "12   Chile  2012                              79.9  2.671220e+11\n",
      "13   Chile  2013                              80.1  2.783840e+11\n",
      "14   Chile  2014                              80.3  2.609900e+11\n",
      "15   Chile  2015                              80.5  2.425180e+11\n",
      "16   China  2000                              71.7  1.211350e+12\n",
      "17   China  2001                              72.2  1.339400e+12\n",
      "18   China  2002                              72.7  1.470550e+12\n",
      "19   China  2003                              73.1  1.660290e+12\n"
     ]
    }
   ],
   "source": [
    "print(df.head(20))"
   ]
  },
  {
   "cell_type": "code",
   "execution_count": 6,
   "metadata": {},
   "outputs": [
    {
     "name": "stdout",
     "output_type": "stream",
     "text": [
      "                     Country  Year  Life expectancy at birth (years)  \\\n",
      "15                     Chile  2015                              80.5   \n",
      "31                     China  2015                              76.1   \n",
      "47                   Germany  2015                              81.0   \n",
      "63                    Mexico  2015                              76.7   \n",
      "79  United States of America  2015                              79.3   \n",
      "\n",
      "             GDP  \n",
      "15  2.425180e+11  \n",
      "31  1.106470e+13  \n",
      "47  3.375610e+12  \n",
      "63  1.152260e+12  \n",
      "79  1.810000e+13  \n"
     ]
    }
   ],
   "source": [
    "#Graph 2015 scatterplot life Exp vs. GDP Y\n",
    "df_2015 = df[df.Year == 2015]\n",
    "print(df_2015.head())"
   ]
  },
  {
   "cell_type": "code",
   "execution_count": 10,
   "metadata": {},
   "outputs": [
    {
     "data": {
      "text/plain": [
       "<AxesSubplot:xlabel='GDP', ylabel='Life expectancy at birth (years)'>"
      ]
     },
     "execution_count": 10,
     "metadata": {},
     "output_type": "execute_result"
    },
    {
     "data": {
      "image/png": "[encoded data removed]",
      "text/plain": [
       "<Figure size 432x288 with 1 Axes>"
      ]
     },
     "metadata": {
      "needs_background": "light"
     },
     "output_type": "display_data"
    }
   ],
   "source": [
    "sns.scatterplot(data = df_2015, x = df_2015.GDP, y = df_2015['Life expectancy at birth (years)'])\n"
   ]
  },
  {
   "cell_type": "code",
   "execution_count": 13,
   "metadata": {},
   "outputs": [
    {
     "data": {
      "text/html": [
       "<div>\n",
       "<style scoped>\n",
       "    .dataframe tbody tr th:only-of-type {\n",
       "        vertical-align: middle;\n",
       "    }\n",
       "\n",
       "    .dataframe tbody tr th {\n",
       "        vertical-align: top;\n",
       "    }\n",
       "\n",
       "    .dataframe thead th {\n",
       "        text-align: right;\n",
       "    }\n",
       "</style>\n",
       "<table border=\"1\" class=\"dataframe\">\n",
       "  <thead>\n",
       "    <tr style=\"text-align: right;\">\n",
       "      <th></th>\n",
       "      <th>Country</th>\n",
       "      <th>Year</th>\n",
       "      <th>Life expectancy at birth (years)</th>\n",
       "      <th>GDP</th>\n",
       "    </tr>\n",
       "  </thead>\n",
       "  <tbody>\n",
       "  </tbody>\n",
       "</table>\n",
       "</div>"
      ],
      "text/plain": [
       "Empty DataFrame\n",
       "Columns: [Country, Year, Life expectancy at birth (years), GDP]\n",
       "Index: []"
      ]
     },
     "execution_count": 13,
     "metadata": {},
     "output_type": "execute_result"
    }
   ],
   "source": [
    "df_2015.loc[df_2015['GDP'] == 0]"
   ]
  },
  {
   "cell_type": "code",
   "execution_count": 14,
   "metadata": {},
   "outputs": [
    {
     "name": "stdout",
     "output_type": "stream",
     "text": [
      "  Country  Year  Life expectancy at birth (years)           GDP\n",
      "0   Chile  2000                              77.3  7.786093e+10\n",
      "1   Chile  2001                              77.3  7.097992e+10\n",
      "2   Chile  2002                              77.8  6.973681e+10\n",
      "3   Chile  2003                              77.9  7.564346e+10\n",
      "4   Chile  2004                              78.0  9.921039e+10\n"
     ]
    }
   ],
   "source": [
    "#Print out just Chile's GDP vs. LIfe expectanct\n",
    "df_chile = df[df.Country == 'Chile']\n",
    "print(df_chile.head())"
   ]
  },
  {
   "cell_type": "code",
   "execution_count": 15,
   "metadata": {},
   "outputs": [
    {
     "data": {
      "text/plain": [
       "<AxesSubplot:xlabel='GDP', ylabel='Life expectancy at birth (years)'>"
      ]
     },
     "execution_count": 15,
     "metadata": {},
     "output_type": "execute_result"
    },
    {
     "data": {
      "image/png": "[encoded data removed]",
      "text/plain": [
       "<Figure size 432x288 with 1 Axes>"
      ]
     },
     "metadata": {
      "needs_background": "light"
     },
     "output_type": "display_data"
    }
   ],
   "source": [
    "sns.scatterplot(data = df_chile, x = df_chile.GDP, y = df_chile['Life expectancy at birth (years)'])"
   ]
  },
  {
   "cell_type": "code",
   "execution_count": 16,
   "metadata": {},
   "outputs": [
    {
     "name": "stdout",
     "output_type": "stream",
     "text": [
      "   Country  Year  Life expectancy at birth (years)           GDP\n",
      "16   China  2000                              71.7  1.211350e+12\n",
      "17   China  2001                              72.2  1.339400e+12\n",
      "18   China  2002                              72.7  1.470550e+12\n",
      "19   China  2003                              73.1  1.660290e+12\n",
      "20   China  2004                              73.5  1.955350e+12\n"
     ]
    },
    {
     "data": {
      "text/plain": [
       "<AxesSubplot:xlabel='GDP', ylabel='Life expectancy at birth (years)'>"
      ]
     },
     "execution_count": 16,
     "metadata": {},
     "output_type": "execute_result"
    },
    {
     "data": {
      "image/png": "[encoded data removed]",
      "text/plain": [
       "<Figure size 432x288 with 1 Axes>"
      ]
     },
     "metadata": {
      "needs_background": "light"
     },
     "output_type": "display_data"
    }
   ],
   "source": [
    "#Same for China \n",
    "df_china = df[df.Country == 'China']\n",
    "print(df_china.head())\n",
    "sns.scatterplot(data = df_china, x = df_china.GDP, y = df_china['Life expectancy at birth (years)'])"
   ]
  },
  {
   "cell_type": "code",
   "execution_count": 19,
   "metadata": {},
   "outputs": [
    {
     "name": "stdout",
     "output_type": "stream",
     "text": [
      "['Chile' 'Chile' 'Chile' 'Chile' 'Chile' 'Chile' 'Chile' 'Chile' 'Chile'\n",
      " 'Chile' 'Chile' 'Chile' 'Chile' 'Chile' 'Chile' 'Chile' 'China' 'China'\n",
      " 'China' 'China' 'China' 'China' 'China' 'China' 'China' 'China' 'China'\n",
      " 'China' 'China' 'China' 'China' 'China' 'Germany' 'Germany' 'Germany'\n",
      " 'Germany' 'Germany' 'Germany' 'Germany' 'Germany' 'Germany' 'Germany'\n",
      " 'Germany' 'Germany' 'Germany' 'Germany' 'Germany' 'Germany' 'Mexico'\n",
      " 'Mexico' 'Mexico' 'Mexico' 'Mexico' 'Mexico' 'Mexico' 'Mexico' 'Mexico'\n",
      " 'Mexico' 'Mexico' 'Mexico' 'Mexico' 'Mexico' 'Mexico' 'Mexico'\n",
      " 'United States of America' 'United States of America'\n",
      " 'United States of America' 'United States of America'\n",
      " 'United States of America' 'United States of America'\n",
      " 'United States of America' 'United States of America'\n",
      " 'United States of America' 'United States of America'\n",
      " 'United States of America' 'United States of America'\n",
      " 'United States of America' 'United States of America'\n",
      " 'United States of America' 'United States of America' 'Zimbabwe'\n",
      " 'Zimbabwe' 'Zimbabwe' 'Zimbabwe' 'Zimbabwe' 'Zimbabwe' 'Zimbabwe'\n",
      " 'Zimbabwe' 'Zimbabwe' 'Zimbabwe' 'Zimbabwe' 'Zimbabwe' 'Zimbabwe'\n",
      " 'Zimbabwe' 'Zimbabwe' 'Zimbabwe']\n"
     ]
    }
   ],
   "source": [
    "print(df.Country.values)"
   ]
  },
  {
   "cell_type": "code",
   "execution_count": 20,
   "metadata": {},
   "outputs": [
    {
     "name": "stdout",
     "output_type": "stream",
     "text": [
      "    Country  Year  Life expectancy at birth (years)           GDP\n",
      "32  Germany  2000                              78.0  1.949950e+12\n",
      "33  Germany  2001                              78.3  1.950650e+12\n",
      "34  Germany  2002                              78.4  2.079140e+12\n",
      "35  Germany  2003                              78.5  2.505730e+12\n",
      "36  Germany  2004                              79.1  2.819250e+12\n"
     ]
    },
    {
     "data": {
      "text/plain": [
       "<AxesSubplot:xlabel='GDP', ylabel='Life expectancy at birth (years)'>"
      ]
     },
     "execution_count": 20,
     "metadata": {},
     "output_type": "execute_result"
    },
    {
     "data": {
      "image/png": "[encoded data removed]",
      "text/plain": [
       "<Figure size 432x288 with 1 Axes>"
      ]
     },
     "metadata": {
      "needs_background": "light"
     },
     "output_type": "display_data"
    }
   ],
   "source": [
    "#Same for Germany \n",
    "df_germany = df[df.Country == 'Germany']\n",
    "print(df_germany.head())\n",
    "sns.scatterplot(data = df_germany, x = df_germany.GDP, y = df_germany['Life expectancy at birth (years)'])"
   ]
  },
  {
   "cell_type": "code",
   "execution_count": 23,
   "metadata": {},
   "outputs": [
    {
     "name": "stdout",
     "output_type": "stream",
     "text": [
      "                     Country  Year  Life expectancy at birth (years)  \\\n",
      "14                     Chile  2014                              80.3   \n",
      "30                     China  2014                              75.8   \n",
      "46                   Germany  2014                              80.9   \n",
      "62                    Mexico  2014                              76.6   \n",
      "78  United States of America  2014                              79.1   \n",
      "\n",
      "             GDP  \n",
      "14  2.609900e+11  \n",
      "30  1.048240e+13  \n",
      "46  3.890610e+12  \n",
      "62  1.298460e+12  \n",
      "78  1.740000e+13  \n"
     ]
    }
   ],
   "source": [
    "#Year 2014\n",
    "df_2014 = df[df.Year == 2014]\n",
    "print(df_2014.head())"
   ]
  },
  {
   "cell_type": "code",
   "execution_count": 24,
   "metadata": {},
   "outputs": [
    {
     "data": {
      "text/plain": [
       "<AxesSubplot:xlabel='GDP', ylabel='Life expectancy at birth (years)'>"
      ]
     },
     "execution_count": 24,
     "metadata": {},
     "output_type": "execute_result"
    },
    {
     "data": {
      "image/png": "[encoded data removed]",
      "text/plain": [
       "<Figure size 432x288 with 1 Axes>"
      ]
     },
     "metadata": {
      "needs_background": "light"
     },
     "output_type": "display_data"
    }
   ],
   "source": [
    "#Same for China \n",
    "\n",
    "sns.scatterplot(data = df_2014, x = df_2014.GDP, y = df_2014['Life expectancy at birth (years)'])"
   ]
  },
  {
   "cell_type": "code",
   "execution_count": 25,
   "metadata": {},
   "outputs": [
    {
     "name": "stdout",
     "output_type": "stream",
     "text": [
      "                     Country  Year  Life expectancy at birth (years)  \\\n",
      "13                     Chile  2013                              80.1   \n",
      "29                     China  2013                              75.6   \n",
      "45                   Germany  2013                              80.6   \n",
      "61                    Mexico  2013                              76.6   \n",
      "77  United States of America  2013                              78.9   \n",
      "\n",
      "             GDP  \n",
      "13  2.783840e+11  \n",
      "29  9.607220e+12  \n",
      "45  3.752510e+12  \n",
      "61  1.261980e+12  \n",
      "77  1.670000e+13  \n"
     ]
    },
    {
     "data": {
      "text/plain": [
       "<AxesSubplot:xlabel='GDP', ylabel='Life expectancy at birth (years)'>"
      ]
     },
     "execution_count": 25,
     "metadata": {},
     "output_type": "execute_result"
    },
    {
     "data": {
      "image/png": "[encoded data removed]",
      "text/plain": [
       "<Figure size 432x288 with 1 Axes>"
      ]
     },
     "metadata": {
      "needs_background": "light"
     },
     "output_type": "display_data"
    }
   ],
   "source": [
    "df_2013 = df[df.Year == 2013]\n",
    "print(df_2013.head())\n",
    "sns.scatterplot(data = df_2013, x = df_2013.GDP, y = df_2013['Life expectancy at birth (years)'])"
   ]
  },
  {
   "cell_type": "code",
   "execution_count": 26,
   "metadata": {},
   "outputs": [
    {
     "name": "stdout",
     "output_type": "stream",
     "text": [
      "                     Country  Year  Life expectancy at birth (years)  \\\n",
      "5                      Chile  2005                              78.4   \n",
      "21                     China  2005                              73.9   \n",
      "37                   Germany  2005                              79.2   \n",
      "53                    Mexico  2005                              75.3   \n",
      "69  United States of America  2005                              77.5   \n",
      "\n",
      "             GDP  \n",
      "5   1.229650e+11  \n",
      "21  2.285970e+12  \n",
      "37  2.861410e+12  \n",
      "53  8.663460e+11  \n",
      "69  1.310000e+13  \n"
     ]
    },
    {
     "data": {
      "text/plain": [
       "<AxesSubplot:xlabel='GDP', ylabel='Life expectancy at birth (years)'>"
      ]
     },
     "execution_count": 26,
     "metadata": {},
     "output_type": "execute_result"
    },
    {
     "data": {
      "image/png": "[encoded data removed]",
      "text/plain": [
       "<Figure size 432x288 with 1 Axes>"
      ]
     },
     "metadata": {
      "needs_background": "light"
     },
     "output_type": "display_data"
    }
   ],
   "source": [
    "df_2005 = df[df.Year == 2005]\n",
    "print(df_2005.head())\n",
    "sns.scatterplot(data = df_2005, x = df_2005.GDP, y = df_2005['Life expectancy at birth (years)'])"
   ]
  },
  {
   "cell_type": "code",
   "execution_count": 28,
   "metadata": {},
   "outputs": [
    {
     "name": "stdout",
     "output_type": "stream",
     "text": [
      "Empty DataFrame\n",
      "Columns: [Country, Year, Life expectancy at birth (years), GDP]\n",
      "Index: []\n"
     ]
    }
   ],
   "source": [
    "print(df_2005.loc[df_2005['GDP'] == 0])\n"
   ]
  },
  {
   "cell_type": "code",
   "execution_count": 29,
   "metadata": {},
   "outputs": [
    {
     "name": "stdout",
     "output_type": "stream",
     "text": [
      "1280220000000.0\n"
     ]
    }
   ],
   "source": [
    "#Median GDP\n",
    " \n",
    "GDP_median = np.median(df.GDP)\n",
    "print(GDP_median)"
   ]
  },
  {
   "cell_type": "code",
   "execution_count": 31,
   "metadata": {},
   "outputs": [
    {
     "name": "stdout",
     "output_type": "stream",
     "text": [
      "76.75\n"
     ]
    }
   ],
   "source": [
    "LE_median = np.median(df['Life expectancy at birth (years)'])\n",
    "print(LE_median)"
   ]
  },
  {
   "cell_type": "code",
   "execution_count": 32,
   "metadata": {},
   "outputs": [
    {
     "data": {
      "text/plain": [
       "<AxesSubplot:xlabel='Year', ylabel='GDP'>"
      ]
     },
     "execution_count": 32,
     "metadata": {},
     "output_type": "execute_result"
    },
    {
     "data": {
      "image/png": "[encoded data removed]",
      "text/plain": [
       "<Figure size 432x288 with 1 Axes>"
      ]
     },
     "metadata": {
      "needs_background": "light"
     },
     "output_type": "display_data"
    }
   ],
   "source": [
    "#GDP vs. time \n",
    "sns.scatterplot(data = df_germany, x = df_germany.Year, y = df_germany.GDP)"
   ]
  },
  {
   "cell_type": "code",
   "execution_count": 33,
   "metadata": {},
   "outputs": [
    {
     "data": {
      "text/plain": [
       "<AxesSubplot:xlabel='Year', ylabel='Life expectancy at birth (years)'>"
      ]
     },
     "execution_count": 33,
     "metadata": {},
     "output_type": "execute_result"
    },
    {
     "data": {
      "image/png": "[encoded data removed]",
      "text/plain": [
       "<Figure size 432x288 with 1 Axes>"
      ]
     },
     "metadata": {
      "needs_background": "light"
     },
     "output_type": "display_data"
    }
   ],
   "source": [
    "sns.scatterplot(data = df_germany, x = df_germany.Year, y = df_germany['Life expectancy at birth (years)'])"
   ]
  },
  {
   "cell_type": "code",
   "execution_count": 36,
   "metadata": {},
   "outputs": [
    {
     "data": {
      "text/plain": [
       "<AxesSubplot:xlabel='Life expectancy at birth (years)', ylabel='Count'>"
      ]
     },
     "execution_count": 36,
     "metadata": {},
     "output_type": "execute_result"
    },
    {
     "data": {
      "image/png": "[encoded data removed]",
      "text/plain": [
       "<Figure size 432x288 with 1 Axes>"
      ]
     },
     "metadata": {
      "needs_background": "light"
     },
     "output_type": "display_data"
    }
   ],
   "source": [
    "#Distribution of life expectancy \n",
    "sns.histplot(data = df_chile, x = df_chile['Life expectancy at birth (years)'], bins = 20)"
   ]
  },
  {
   "cell_type": "code",
   "execution_count": 37,
   "metadata": {},
   "outputs": [
    {
     "ename": "NameError",
     "evalue": "name 'git' is not defined",
     "output_type": "error",
     "traceback": [
      "\u001b[0;31m---------------------------------------------------------------------------\u001b[0m",
      "\u001b[0;31mNameError\u001b[0m                                 Traceback (most recent call last)",
      "Input \u001b[0;32mIn [37]\u001b[0m, in \u001b[0;36m<cell line: 1>\u001b[0;34m()\u001b[0m\n\u001b[0;32m----> 1\u001b[0m \u001b[43mgit\u001b[49m \u001b[38;5;241m-\u001b[39m\u001b[38;5;241m-\u001b[39mversion\n",
      "\u001b[0;31mNameError\u001b[0m: name 'git' is not defined"
     ]
    }
   ],
   "source": []
  },
  {
   "cell_type": "code",
   "execution_count": 39,
   "metadata": {},
   "outputs": [
    {
     "ename": "SyntaxError",
     "evalue": "invalid syntax (3277417328.py, line 1)",
     "output_type": "error",
     "traceback": [
      "\u001b[0;36m  Input \u001b[0;32mIn [39]\u001b[0;36m\u001b[0m\n\u001b[0;31m    git init\u001b[0m\n\u001b[0m        ^\u001b[0m\n\u001b[0;31mSyntaxError\u001b[0m\u001b[0;31m:\u001b[0m invalid syntax\n"
     ]
    }
   ],
   "source": []
  },
  {
   "cell_type": "code",
   "execution_count": null,
   "metadata": {},
   "outputs": [],
   "source": []
  }
 ],
 "metadata": {
  "kernelspec": {
   "display_name": "Python 3 (ipykernel)",
   "language": "python",
   "name": "python3"
  },
  "language_info": {
   "codemirror_mode": {
    "name": "ipython",
    "version": 3
   },
   "file_extension": ".py",
   "mimetype": "text/x-python",
   "name": "python",
   "nbconvert_exporter": "python",
   "pygments_lexer": "ipython3",
   "version": "3.9.7"
  }
 },
 "nbformat": 4,
 "nbformat_minor": 4
}
